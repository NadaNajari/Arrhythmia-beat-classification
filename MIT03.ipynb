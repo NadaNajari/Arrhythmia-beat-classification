{
 "cells": [
  {
   "cell_type": "code",
   "execution_count": 1,
   "id": "bcba4068",
   "metadata": {},
   "outputs": [],
   "source": [
    "import wfdb as wf\n",
    "import numpy as np\n",
    "from matplotlib import pyplot as plt\n",
    "from scipy import ndimage\n",
    "import biosppy.signals\n",
    "import pywt\n",
    "import pandas as pd\n",
    "from sklearn.decomposition import PCA\n",
    "from sklearn.model_selection import train_test_split,GridSearchCV\n",
    "from sklearn.neighbors import KNeighborsClassifier\n",
    "from sklearn.pipeline import Pipeline\n",
    "from sklearn.preprocessing import StandardScaler\n",
    "import seaborn as sns"
   ]
  },
  {
   "cell_type": "code",
   "execution_count": 2,
   "id": "e8306ea3",
   "metadata": {},
   "outputs": [],
   "source": [
    "Normal=['N','.']\n",
    "Anomalie=['L','R','B','A','a','J','S','V','r',\n",
    "         'F','e','j','n','E','/','f','Q','?']\n",
    "NonBeat=['[','!',']','x','(',')','P','t','u',\n",
    "        '`',\"'\",'^','|','~','+','s','T','*',\n",
    "        'D','=','\"', '@']"
   ]
  },
  {
   "cell_type": "code",
   "execution_count": 3,
   "id": "2215d509",
   "metadata": {},
   "outputs": [],
   "source": [
    "patients = ['100','101','102','103','104','105','106','107',\n",
    "           '108','109','111','112','113','114','115','116',\n",
    "           '117','118','119','121','122','123','124','200',\n",
    "           '201','202','203','205','207','208','209','210',\n",
    "           '212','213','214','215','217','219','220','221',\n",
    "           '222','223','228','230','231','232','233','234']"
   ]
  },
  {
   "cell_type": "markdown",
   "id": "1a500c3c",
   "metadata": {},
   "source": [
    "# Changement des deux exceptions de Rpeaks"
   ]
  },
  {
   "cell_type": "markdown",
   "id": "f91e9f52",
   "metadata": {},
   "source": [
    "## 108"
   ]
  },
  {
   "cell_type": "code",
   "execution_count": 4,
   "id": "67953be0",
   "metadata": {},
   "outputs": [],
   "source": [
    "record108 = wf.rdsamp('C://Users//Nada Najari//Downloads//mit-bih-arrhythmia-database-1.0.0//mit-bih-arrhythmia-database-1.0.0//108', sampto=5000)"
   ]
  },
  {
   "cell_type": "code",
   "execution_count": 5,
   "id": "2681582f",
   "metadata": {
    "scrolled": true
   },
   "outputs": [],
   "source": [
    "rpeak108=biosppy.signals.ecg.hamilton_segmenter(signal=record108[0][:,0], sampling_rate=360.0)"
   ]
  },
  {
   "cell_type": "code",
   "execution_count": 6,
   "id": "5998dbd1",
   "metadata": {
    "scrolled": true
   },
   "outputs": [
    {
     "data": {
      "text/plain": [
       "array([  88,  441,  790, 1079, 1155, 1492, 1821, 2157, 2501, 2517, 2883,\n",
       "       2889, 3237, 3593, 3925, 4103, 4603, 4971])"
      ]
     },
     "execution_count": 6,
     "metadata": {},
     "output_type": "execute_result"
    }
   ],
   "source": [
    "rpeak108[0]"
   ]
  },
  {
   "cell_type": "code",
   "execution_count": 7,
   "id": "79fc4953",
   "metadata": {},
   "outputs": [
    {
     "data": {
      "text/plain": [
       "18"
      ]
     },
     "execution_count": 7,
     "metadata": {},
     "output_type": "execute_result"
    }
   ],
   "source": [
    "len(rpeak108[0])"
   ]
  },
  {
   "cell_type": "code",
   "execution_count": 8,
   "id": "efaa2d57",
   "metadata": {},
   "outputs": [],
   "source": [
    "L=[]\n",
    "for i in range(len(rpeak108[0])):\n",
    "    L.append(rpeak108[0][i])"
   ]
  },
  {
   "cell_type": "code",
   "execution_count": 9,
   "id": "bf7bde0c",
   "metadata": {},
   "outputs": [
    {
     "data": {
      "text/plain": [
       "2883"
      ]
     },
     "execution_count": 9,
     "metadata": {},
     "output_type": "execute_result"
    }
   ],
   "source": [
    "L.pop(10)"
   ]
  },
  {
   "cell_type": "code",
   "execution_count": 10,
   "id": "ac1d0436",
   "metadata": {},
   "outputs": [
    {
     "data": {
      "text/plain": [
       "2501"
      ]
     },
     "execution_count": 10,
     "metadata": {},
     "output_type": "execute_result"
    }
   ],
   "source": [
    "L.pop(8)"
   ]
  },
  {
   "cell_type": "code",
   "execution_count": 11,
   "id": "d1ec6b71",
   "metadata": {
    "scrolled": true
   },
   "outputs": [
    {
     "data": {
      "text/plain": [
       "1079"
      ]
     },
     "execution_count": 11,
     "metadata": {},
     "output_type": "execute_result"
    }
   ],
   "source": [
    "L.pop(3)"
   ]
  },
  {
   "cell_type": "code",
   "execution_count": 12,
   "id": "cbdefc3e",
   "metadata": {},
   "outputs": [],
   "source": [
    "rpeak108=np.array(L)"
   ]
  },
  {
   "cell_type": "code",
   "execution_count": 13,
   "id": "44524137",
   "metadata": {
    "scrolled": true
   },
   "outputs": [
    {
     "data": {
      "text/plain": [
       "array([  88,  441,  790, 1155, 1492, 1821, 2157, 2517, 2889, 3237, 3593,\n",
       "       3925, 4103, 4603, 4971])"
      ]
     },
     "execution_count": 13,
     "metadata": {},
     "output_type": "execute_result"
    }
   ],
   "source": [
    "rpeak108"
   ]
  },
  {
   "cell_type": "markdown",
   "id": "eed9815a",
   "metadata": {},
   "source": [
    "## 116"
   ]
  },
  {
   "cell_type": "code",
   "execution_count": 14,
   "id": "ef0514de",
   "metadata": {},
   "outputs": [],
   "source": [
    "record116 = wf.rdsamp('C://Users//Nada Najari//Downloads//mit-bih-arrhythmia-database-1.0.0//mit-bih-arrhythmia-database-1.0.0//116', sampto=5000)"
   ]
  },
  {
   "cell_type": "code",
   "execution_count": 15,
   "id": "e96482ba",
   "metadata": {},
   "outputs": [],
   "source": [
    "rpeak116=biosppy.signals.ecg.hamilton_segmenter(signal=record116[0][:,0], sampling_rate=360.0)"
   ]
  },
  {
   "cell_type": "code",
   "execution_count": 16,
   "id": "b6312c8a",
   "metadata": {
    "scrolled": false
   },
   "outputs": [
    {
     "data": {
      "text/plain": [
       "array([  16,  284,  562,  838, 1105, 1370, 1640, 1910, 2181, 2448, 2720,\n",
       "       2988, 3256, 3530, 3797, 4067, 4345, 4615, 4887])"
      ]
     },
     "execution_count": 16,
     "metadata": {},
     "output_type": "execute_result"
    }
   ],
   "source": [
    "rpeak116[0]"
   ]
  },
  {
   "cell_type": "code",
   "execution_count": 17,
   "id": "cd78fe30",
   "metadata": {},
   "outputs": [
    {
     "data": {
      "text/plain": [
       "19"
      ]
     },
     "execution_count": 17,
     "metadata": {},
     "output_type": "execute_result"
    }
   ],
   "source": [
    "len(rpeak116[0])"
   ]
  },
  {
   "cell_type": "code",
   "execution_count": 18,
   "id": "c80d4f7f",
   "metadata": {},
   "outputs": [],
   "source": [
    "L=[]\n",
    "for i in range(len(rpeak116[0])):\n",
    "    L.append(rpeak116[0][i])"
   ]
  },
  {
   "cell_type": "code",
   "execution_count": 19,
   "id": "9bab9811",
   "metadata": {
    "scrolled": false
   },
   "outputs": [
    {
     "data": {
      "text/plain": [
       "19"
      ]
     },
     "execution_count": 19,
     "metadata": {},
     "output_type": "execute_result"
    }
   ],
   "source": [
    "len(L)"
   ]
  },
  {
   "cell_type": "code",
   "execution_count": 20,
   "id": "c6ca48b6",
   "metadata": {},
   "outputs": [
    {
     "data": {
      "text/plain": [
       "4887"
      ]
     },
     "execution_count": 20,
     "metadata": {},
     "output_type": "execute_result"
    }
   ],
   "source": [
    "L.pop()"
   ]
  },
  {
   "cell_type": "code",
   "execution_count": 21,
   "id": "6d67bfa1",
   "metadata": {},
   "outputs": [
    {
     "data": {
      "text/plain": [
       "18"
      ]
     },
     "execution_count": 21,
     "metadata": {},
     "output_type": "execute_result"
    }
   ],
   "source": [
    "len(L)"
   ]
  },
  {
   "cell_type": "code",
   "execution_count": 22,
   "id": "3046a7e5",
   "metadata": {},
   "outputs": [],
   "source": [
    "rpeak116=np.array(L)"
   ]
  },
  {
   "cell_type": "code",
   "execution_count": 23,
   "id": "2469ebe1",
   "metadata": {
    "scrolled": true
   },
   "outputs": [
    {
     "data": {
      "text/plain": [
       "array([  16,  284,  562,  838, 1105, 1370, 1640, 1910, 2181, 2448, 2720,\n",
       "       2988, 3256, 3530, 3797, 4067, 4345, 4615])"
      ]
     },
     "execution_count": 23,
     "metadata": {},
     "output_type": "execute_result"
    }
   ],
   "source": [
    "rpeak116"
   ]
  },
  {
   "cell_type": "code",
   "execution_count": 24,
   "id": "d9b33d5b",
   "metadata": {},
   "outputs": [
    {
     "data": {
      "text/plain": [
       "16"
      ]
     },
     "execution_count": 24,
     "metadata": {},
     "output_type": "execute_result"
    }
   ],
   "source": [
    "rpeak116[0]"
   ]
  },
  {
   "cell_type": "markdown",
   "id": "54bafeb1",
   "metadata": {},
   "source": [
    "# Generalisation"
   ]
  },
  {
   "cell_type": "code",
   "execution_count": 25,
   "id": "4ae7269a",
   "metadata": {},
   "outputs": [],
   "source": [
    "record = wf.rdsamp('C://Users//Nada Najari//Downloads//mit-bih-arrhythmia-database-1.0.0//mit-bih-arrhythmia-database-1.0.0//100', sampto=5000)"
   ]
  },
  {
   "cell_type": "code",
   "execution_count": 26,
   "id": "3ad7cfcb",
   "metadata": {},
   "outputs": [],
   "source": [
    "rpeak=biosppy.signals.ecg.hamilton_segmenter(signal=record[0][:,0], sampling_rate=360.0)"
   ]
  },
  {
   "cell_type": "code",
   "execution_count": 27,
   "id": "03ad75ef",
   "metadata": {},
   "outputs": [
    {
     "data": {
      "text/plain": [
       "array([  77,  370,  663,  947, 1231, 1515, 1809, 2045, 2403, 2706, 2998,\n",
       "       3283, 3560, 3863, 4171, 4466, 4765])"
      ]
     },
     "execution_count": 27,
     "metadata": {},
     "output_type": "execute_result"
    }
   ],
   "source": [
    "rpeak[0]"
   ]
  },
  {
   "cell_type": "code",
   "execution_count": 28,
   "id": "266d1e0c",
   "metadata": {},
   "outputs": [],
   "source": [
    "seg=biosppy.signals.ecg.extract_heartbeats(signal=record108[0][:,0], rpeaks=rpeak[0], sampling_rate=360.0, before=0.2, after=0.3)"
   ]
  },
  {
   "cell_type": "code",
   "execution_count": 29,
   "id": "2efe19e9",
   "metadata": {},
   "outputs": [
    {
     "data": {
      "text/plain": [
       "ReturnTuple(templates=array([[-0.125, -0.125, -0.125, ..., -0.165, -0.17 , -0.19 ],\n",
       "       [-0.34 , -0.34 , -0.33 , ..., -0.24 , -0.25 , -0.245],\n",
       "       [-0.25 , -0.285, -0.28 , ..., -0.285, -0.27 , -0.265],\n",
       "       ...,\n",
       "       [ 0.035,  0.065,  0.13 , ..., -0.28 , -0.265, -0.245],\n",
       "       [-0.19 , -0.195, -0.19 , ..., -0.225, -0.205, -0.21 ],\n",
       "       [-0.02 , -0.04 , -0.045, ..., -0.14 , -0.105, -0.125]]), rpeaks=array([  77,  370,  663,  947, 1231, 1515, 1809, 2045, 2403, 2706, 2998,\n",
       "       3283, 3560, 3863, 4171, 4466, 4765]))"
      ]
     },
     "execution_count": 29,
     "metadata": {},
     "output_type": "execute_result"
    }
   ],
   "source": [
    "seg"
   ]
  },
  {
   "cell_type": "code",
   "execution_count": 30,
   "id": "762027ed",
   "metadata": {
    "scrolled": false
   },
   "outputs": [
    {
     "data": {
      "text/plain": [
       "array([[-0.125, -0.125, -0.125, ..., -0.165, -0.17 , -0.19 ],\n",
       "       [-0.34 , -0.34 , -0.33 , ..., -0.24 , -0.25 , -0.245],\n",
       "       [-0.25 , -0.285, -0.28 , ..., -0.285, -0.27 , -0.265],\n",
       "       ...,\n",
       "       [ 0.035,  0.065,  0.13 , ..., -0.28 , -0.265, -0.245],\n",
       "       [-0.19 , -0.195, -0.19 , ..., -0.225, -0.205, -0.21 ],\n",
       "       [-0.02 , -0.04 , -0.045, ..., -0.14 , -0.105, -0.125]])"
      ]
     },
     "execution_count": 30,
     "metadata": {},
     "output_type": "execute_result"
    }
   ],
   "source": [
    "seg[0]"
   ]
  },
  {
   "cell_type": "code",
   "execution_count": 31,
   "id": "d68335b6",
   "metadata": {},
   "outputs": [
    {
     "name": "stdout",
     "output_type": "stream",
     "text": [
      "101nombre de rpeak supérieur -1\n",
      "102nombre de rpeak supérieur -1\n",
      "103nombre de rpeak supérieur -1\n",
      "104nombre de rpeak supérieur -1\n",
      "105nombre de rpeak supérieur -1\n",
      "106nombre de rpeak supérieur -1\n",
      "107nombre de rpeak supérieur -1\n",
      "108nombre de rpeak supérieur -1\n",
      "109nombre de rpeak supérieur -1\n",
      "112nombre de rpeak supérieur -1\n",
      "116nombre de rpeak supérieur -1\n",
      "118nombre de rpeak supérieur -2\n",
      "119nombre de rpeak supérieur -1\n",
      "122nombre de rpeak supérieur -1\n",
      "123nombre de rpeak supérieur -1\n",
      "200nombre de rpeak supérieur -1\n",
      "201nombre de rpeak supérieur -1\n",
      "203nombre de rpeak supérieur -1\n",
      "207nombre de rpeak supérieur -2\n",
      "208nombre de rpeak supérieur -1\n",
      "210nombre de rpeak supérieur -1\n",
      "212nombre de rpeak supérieur -1\n",
      "213nombre de rpeak supérieur -1\n",
      "214nombre de rpeak supérieur -1\n",
      "215nombre de rpeak supérieur -1\n",
      "219nombre de rpeak supérieur -1\n",
      "220nombre de rpeak supérieur -1\n",
      "222nombre de rpeak supérieur -1\n",
      "233nombre de rpeak supérieur -2\n",
      "234nombre de rpeak supérieur -1\n"
     ]
    }
   ],
   "source": [
    "for i in range(len(patients)):\n",
    "    if (patients[i]=='108'):\n",
    "        seg=biosppy.signals.ecg.extract_heartbeats(signal=record108[0][:,0], rpeaks=rpeak108, sampling_rate=360.0, before=0.2, after=0.4)\n",
    "        rpeak0=rpeak108\n",
    "    elif (patients[i]=='116'):\n",
    "        seg=biosppy.signals.ecg.extract_heartbeats(signal=record116[0][:,0], rpeaks=rpeak116, sampling_rate=360.0, before=0.2, after=0.4)\n",
    "        rpeak0=rpeak116\n",
    "    else:\n",
    "        record= wf.rdsamp('C://Users//Nada Najari//Downloads//mit-bih-arrhythmia-database-1.0.0//mit-bih-arrhythmia-database-1.0.0//'+patients[i], sampto=5000)\n",
    "        rpeak=biosppy.signals.ecg.hamilton_segmenter(signal=record[0][:,0], sampling_rate=360.0)\n",
    "        seg=biosppy.signals.ecg.extract_heartbeats(signal=record[0][:,0], rpeaks=rpeak[0], sampling_rate=360.0, before=0.2, after=0.4)\n",
    "        rpeak0=rpeak[0]\n",
    "    if (len(seg[0])>len(rpeak0)):\n",
    "        print(patients[i]+'nombre de segment supérieur', len(seg[0])-len(rpeak0),)\n",
    "    elif (len(seg[0])<len(rpeak0)):\n",
    "        print(patients[i]+'nombre de rpeak supérieur', len(seg[0])-len(rpeak0))"
   ]
  },
  {
   "cell_type": "code",
   "execution_count": 32,
   "id": "f41cc4f6",
   "metadata": {},
   "outputs": [
    {
     "data": {
      "text/plain": [
       "(20, 15)"
      ]
     },
     "execution_count": 32,
     "metadata": {},
     "output_type": "execute_result"
    }
   ],
   "source": [
    "len(seg[0]), len(rpeak108)"
   ]
  },
  {
   "cell_type": "code",
   "execution_count": 33,
   "id": "cf7f1af6",
   "metadata": {},
   "outputs": [],
   "source": [
    "Coef=pywt.dwt(seg[0][0],'rbio6.8')"
   ]
  },
  {
   "cell_type": "code",
   "execution_count": 34,
   "id": "078bc459",
   "metadata": {},
   "outputs": [],
   "source": [
    "features=[]\n",
    "for row in Coef[0]:\n",
    "    features.append(row)"
   ]
  },
  {
   "cell_type": "code",
   "execution_count": 35,
   "id": "3da603bf",
   "metadata": {},
   "outputs": [
    {
     "data": {
      "text/plain": [
       "array([-0.07411026, -0.08265125, -0.1110947 , -0.09214069, -0.07145023,\n",
       "       -0.11161052, -0.09599815, -0.07660883, -0.06713105, -0.02986175,\n",
       "       -0.02500795, -0.01177528,  0.02124508,  0.05421748,  0.10491793,\n",
       "        0.16220804,  0.18869447,  0.14994322,  0.13926879,  0.14179764,\n",
       "        0.14393874,  0.09719427,  0.01640839, -0.06845881, -0.1256442 ,\n",
       "       -0.11865806, -0.10967794, -0.12658594, -0.15353141, -0.1791652 ,\n",
       "       -0.19448327, -0.18171913, -0.17123661, -0.17207553, -0.19757096,\n",
       "       -0.18567937,  0.04704738,  0.55906452,  1.27391758,  1.9997082 ,\n",
       "        2.33329283,  1.92906109,  1.01459019,  0.15452205, -0.26474231,\n",
       "       -0.28932455, -0.17219864, -0.17355404, -0.22027844, -0.26073743,\n",
       "       -0.25730353, -0.23314269, -0.2548174 , -0.26779035, -0.30917108,\n",
       "       -0.27194822, -0.21836172, -0.21897785, -0.24301585, -0.24706087,\n",
       "       -0.27229471, -0.22413568, -0.18411446, -0.18955857, -0.19537713,\n",
       "       -0.21081847, -0.21197191, -0.19966203, -0.14877754, -0.12106385,\n",
       "       -0.1126362 , -0.11664738, -0.12251432, -0.10073914, -0.06369437,\n",
       "       -0.03070724, -0.03191885, -0.0468164 , -0.04715183, -0.05008567,\n",
       "       -0.04421255, -0.01649082, -0.02951417, -0.04547885, -0.01658075,\n",
       "        0.02724555,  0.08723358,  0.08331627,  0.09753182,  0.08887031,\n",
       "        0.06196581,  0.05755593,  0.05981493,  0.06379561,  0.04419907,\n",
       "        0.03352384,  0.03513572,  0.04523074,  0.04777232,  0.04371836,\n",
       "        0.04838232,  0.04210493,  0.03867167,  0.04396   ,  0.05442453,\n",
       "        0.06345834,  0.04752057,  0.03449507,  0.06956701,  0.0703145 ,\n",
       "        0.08136975,  0.07939477,  0.08319999,  0.0799185 ,  0.07590246,\n",
       "        0.07186137])"
      ]
     },
     "execution_count": 35,
     "metadata": {},
     "output_type": "execute_result"
    }
   ],
   "source": [
    "Coef[0]"
   ]
  },
  {
   "cell_type": "code",
   "execution_count": 36,
   "id": "2c557ef2",
   "metadata": {},
   "outputs": [
    {
     "data": {
      "text/plain": [
       "[-0.0741102560510133,\n",
       " -0.08265124971823898,\n",
       " -0.11109470467053945,\n",
       " -0.0921406880157472,\n",
       " -0.07145023041878203,\n",
       " -0.11161051879104988,\n",
       " -0.09599815490688483,\n",
       " -0.07660883250591875,\n",
       " -0.0671310469977449,\n",
       " -0.02986175480149285,\n",
       " -0.025007948194820523,\n",
       " -0.011775278865421408,\n",
       " 0.021245083649981542,\n",
       " 0.054217478509808806,\n",
       " 0.10491793399275938,\n",
       " 0.16220803713440157,\n",
       " 0.1886944722945793,\n",
       " 0.14994321893056625,\n",
       " 0.1392687921875446,\n",
       " 0.14179764037067022,\n",
       " 0.14393873999831275,\n",
       " 0.09719426987995906,\n",
       " 0.016408390825255272,\n",
       " -0.06845881155708855,\n",
       " -0.12564420039893345,\n",
       " -0.11865805892657424,\n",
       " -0.10967794073718876,\n",
       " -0.12658594244487525,\n",
       " -0.15353141116147287,\n",
       " -0.17916519678186676,\n",
       " -0.1944832656401831,\n",
       " -0.1817191329809395,\n",
       " -0.1712366123497087,\n",
       " -0.17207552601683232,\n",
       " -0.19757096489817155,\n",
       " -0.18567936900367923,\n",
       " 0.047047383041418374,\n",
       " 0.5590645194765781,\n",
       " 1.2739175765963855,\n",
       " 1.9997081970902462,\n",
       " 2.333292827590346,\n",
       " 1.929061088216066,\n",
       " 1.0145901927288137,\n",
       " 0.15452205376264566,\n",
       " -0.2647423143666514,\n",
       " -0.2893245536076801,\n",
       " -0.17219864419395015,\n",
       " -0.1735540444420617,\n",
       " -0.22027843560465685,\n",
       " -0.2607374292308653,\n",
       " -0.2573035274414968,\n",
       " -0.2331426892454743,\n",
       " -0.2548174037999843,\n",
       " -0.2677903502410086,\n",
       " -0.30917108128675075,\n",
       " -0.2719482236473165,\n",
       " -0.21836171867528972,\n",
       " -0.21897785461224945,\n",
       " -0.2430158501524665,\n",
       " -0.24706087459958176,\n",
       " -0.2722947148686416,\n",
       " -0.2241356761790979,\n",
       " -0.18411445988350622,\n",
       " -0.18955856781077154,\n",
       " -0.1953771285865894,\n",
       " -0.21081847428839037,\n",
       " -0.211971908647387,\n",
       " -0.19966203102009483,\n",
       " -0.14877753962915943,\n",
       " -0.12106384587427535,\n",
       " -0.11263619526717322,\n",
       " -0.11664737643248996,\n",
       " -0.12251431708779517,\n",
       " -0.10073914295617999,\n",
       " -0.06369437367885668,\n",
       " -0.030707242087435412,\n",
       " -0.03191884988862749,\n",
       " -0.04681639541892595,\n",
       " -0.04715183198204369,\n",
       " -0.05008566849656098,\n",
       " -0.04421255046063155,\n",
       " -0.016490821857523964,\n",
       " -0.029514165370058867,\n",
       " -0.045478849764537345,\n",
       " -0.01658075198013825,\n",
       " 0.027245550862926408,\n",
       " 0.08723358102543904,\n",
       " 0.08331626561366799,\n",
       " 0.09753181746822089,\n",
       " 0.08887031250897971,\n",
       " 0.06196580715951343,\n",
       " 0.05755593330031448,\n",
       " 0.05981493241487659,\n",
       " 0.06379561201722315,\n",
       " 0.04419907060551327,\n",
       " 0.03352384137843585,\n",
       " 0.03513571889980329,\n",
       " 0.04523074101504238,\n",
       " 0.04777231823384311,\n",
       " 0.04371836262132767,\n",
       " 0.048382322476740625,\n",
       " 0.04210492827840782,\n",
       " 0.03867166502964765,\n",
       " 0.04395999932220245,\n",
       " 0.054424533577105035,\n",
       " 0.06345834241027049,\n",
       " 0.04752056957946973,\n",
       " 0.03449507287328246,\n",
       " 0.06956701359957161,\n",
       " 0.07031450269577758,\n",
       " 0.08136975401323857,\n",
       " 0.07939476804952843,\n",
       " 0.08319999481765442,\n",
       " 0.0799184987613768,\n",
       " 0.07590246298321432,\n",
       " 0.07186136888994975]"
      ]
     },
     "execution_count": 36,
     "metadata": {},
     "output_type": "execute_result"
    }
   ],
   "source": [
    "features"
   ]
  },
  {
   "cell_type": "code",
   "execution_count": 37,
   "id": "d923fa9e",
   "metadata": {},
   "outputs": [
    {
     "data": {
      "text/plain": [
       "-0.0741102560510133"
      ]
     },
     "execution_count": 37,
     "metadata": {},
     "output_type": "execute_result"
    }
   ],
   "source": [
    "Coef[0][0]"
   ]
  },
  {
   "cell_type": "code",
   "execution_count": 38,
   "id": "38e4d40f",
   "metadata": {},
   "outputs": [],
   "source": [
    "df=pd.DataFrame()\n",
    "for i in range(len(patients)):\n",
    "    if (patients[i]=='108'):\n",
    "        seg=biosppy.signals.ecg.extract_heartbeats(signal=record108[0][:,0], rpeaks=rpeak108, sampling_rate=360.0, before=0.2, after=0.4)\n",
    "    elif (patients[i]=='116'):\n",
    "        seg=biosppy.signals.ecg.extract_heartbeats(signal=record116[0][:,0], rpeaks=rpeak116, sampling_rate=360.0, before=0.2, after=0.4)\n",
    "    else:\n",
    "        record = wf.rdsamp('C://Users//Nada Najari//Downloads//mit-bih-arrhythmia-database-1.0.0//mit-bih-arrhythmia-database-1.0.0//'+patients[i], sampto=5000)\n",
    "        rpeak=biosppy.signals.ecg.hamilton_segmenter(signal=record[0][:,0], sampling_rate=360.0)\n",
    "        seg=biosppy.signals.ecg.extract_heartbeats(signal=record[0][:,0], rpeaks=rpeak[0], sampling_rate=360.0, before=0.2, after=0.4)\n",
    "    for j in range(len(seg[0])):\n",
    "        Coef=pywt.wavedec(seg[0][j],'rbio6.8',level=2)\n",
    "        features=[]\n",
    "        for l in range(len(Coef)):\n",
    "            for row in (Coef[l]):\n",
    "                features.append(row)\n",
    "        data=[features]\n",
    "        colonnes=[]\n",
    "        for k in range(len(features)):\n",
    "            colonnes.append('x'+str(k))\n",
    "        df1=pd.DataFrame(data,columns=colonnes)\n",
    "        df=pd.concat([df,df1],ignore_index=True)"
   ]
  },
  {
   "cell_type": "code",
   "execution_count": 39,
   "id": "cf603feb",
   "metadata": {},
   "outputs": [
    {
     "data": {
      "text/html": [
       "<div>\n",
       "<style scoped>\n",
       "    .dataframe tbody tr th:only-of-type {\n",
       "        vertical-align: middle;\n",
       "    }\n",
       "\n",
       "    .dataframe tbody tr th {\n",
       "        vertical-align: top;\n",
       "    }\n",
       "\n",
       "    .dataframe thead th {\n",
       "        text-align: right;\n",
       "    }\n",
       "</style>\n",
       "<table border=\"1\" class=\"dataframe\">\n",
       "  <thead>\n",
       "    <tr style=\"text-align: right;\">\n",
       "      <th></th>\n",
       "      <th>x0</th>\n",
       "      <th>x1</th>\n",
       "      <th>x2</th>\n",
       "      <th>x3</th>\n",
       "      <th>x4</th>\n",
       "      <th>x5</th>\n",
       "      <th>x6</th>\n",
       "      <th>x7</th>\n",
       "      <th>x8</th>\n",
       "      <th>x9</th>\n",
       "      <th>...</th>\n",
       "      <th>x238</th>\n",
       "      <th>x239</th>\n",
       "      <th>x240</th>\n",
       "      <th>x241</th>\n",
       "      <th>x242</th>\n",
       "      <th>x243</th>\n",
       "      <th>x244</th>\n",
       "      <th>x245</th>\n",
       "      <th>x246</th>\n",
       "      <th>x247</th>\n",
       "    </tr>\n",
       "  </thead>\n",
       "  <tbody>\n",
       "    <tr>\n",
       "      <th>0</th>\n",
       "      <td>-0.293264</td>\n",
       "      <td>-0.276704</td>\n",
       "      <td>-0.283315</td>\n",
       "      <td>-0.284291</td>\n",
       "      <td>-0.310929</td>\n",
       "      <td>-0.270594</td>\n",
       "      <td>-0.289745</td>\n",
       "      <td>-0.273186</td>\n",
       "      <td>-0.322904</td>\n",
       "      <td>-0.347862</td>\n",
       "      <td>...</td>\n",
       "      <td>0.005433</td>\n",
       "      <td>0.002811</td>\n",
       "      <td>-0.008389</td>\n",
       "      <td>-0.001614</td>\n",
       "      <td>0.008409</td>\n",
       "      <td>-0.001399</td>\n",
       "      <td>-0.001478</td>\n",
       "      <td>-0.006776</td>\n",
       "      <td>0.006517</td>\n",
       "      <td>0.007125</td>\n",
       "    </tr>\n",
       "    <tr>\n",
       "      <th>1</th>\n",
       "      <td>-0.482511</td>\n",
       "      <td>-0.540654</td>\n",
       "      <td>-0.546690</td>\n",
       "      <td>-0.499387</td>\n",
       "      <td>-0.468719</td>\n",
       "      <td>-0.531776</td>\n",
       "      <td>-0.547950</td>\n",
       "      <td>-0.520972</td>\n",
       "      <td>-0.434744</td>\n",
       "      <td>-0.426375</td>\n",
       "      <td>...</td>\n",
       "      <td>0.013307</td>\n",
       "      <td>0.007175</td>\n",
       "      <td>-0.009169</td>\n",
       "      <td>0.008632</td>\n",
       "      <td>-0.006781</td>\n",
       "      <td>-0.004126</td>\n",
       "      <td>0.010627</td>\n",
       "      <td>-0.007328</td>\n",
       "      <td>0.006407</td>\n",
       "      <td>-0.001100</td>\n",
       "    </tr>\n",
       "    <tr>\n",
       "      <th>2</th>\n",
       "      <td>-0.531936</td>\n",
       "      <td>-0.581215</td>\n",
       "      <td>-0.593229</td>\n",
       "      <td>-0.538971</td>\n",
       "      <td>-0.522756</td>\n",
       "      <td>-0.568237</td>\n",
       "      <td>-0.598154</td>\n",
       "      <td>-0.554277</td>\n",
       "      <td>-0.507212</td>\n",
       "      <td>-0.461098</td>\n",
       "      <td>...</td>\n",
       "      <td>0.004561</td>\n",
       "      <td>-0.010457</td>\n",
       "      <td>-0.009708</td>\n",
       "      <td>0.004865</td>\n",
       "      <td>-0.006490</td>\n",
       "      <td>0.002058</td>\n",
       "      <td>-0.000874</td>\n",
       "      <td>0.004761</td>\n",
       "      <td>-0.000547</td>\n",
       "      <td>0.009539</td>\n",
       "    </tr>\n",
       "    <tr>\n",
       "      <th>3</th>\n",
       "      <td>-0.537739</td>\n",
       "      <td>-0.577033</td>\n",
       "      <td>-0.586953</td>\n",
       "      <td>-0.547312</td>\n",
       "      <td>-0.535282</td>\n",
       "      <td>-0.565669</td>\n",
       "      <td>-0.592941</td>\n",
       "      <td>-0.558279</td>\n",
       "      <td>-0.516302</td>\n",
       "      <td>-0.537049</td>\n",
       "      <td>...</td>\n",
       "      <td>-0.001868</td>\n",
       "      <td>-0.009904</td>\n",
       "      <td>0.005181</td>\n",
       "      <td>-0.004370</td>\n",
       "      <td>-0.000719</td>\n",
       "      <td>-0.004049</td>\n",
       "      <td>0.006154</td>\n",
       "      <td>0.000226</td>\n",
       "      <td>-0.000467</td>\n",
       "      <td>0.003569</td>\n",
       "    </tr>\n",
       "    <tr>\n",
       "      <th>4</th>\n",
       "      <td>-0.488754</td>\n",
       "      <td>-0.547735</td>\n",
       "      <td>-0.555603</td>\n",
       "      <td>-0.501533</td>\n",
       "      <td>-0.473446</td>\n",
       "      <td>-0.536482</td>\n",
       "      <td>-0.558696</td>\n",
       "      <td>-0.517181</td>\n",
       "      <td>-0.486760</td>\n",
       "      <td>-0.499094</td>\n",
       "      <td>...</td>\n",
       "      <td>-0.001551</td>\n",
       "      <td>0.004503</td>\n",
       "      <td>-0.003700</td>\n",
       "      <td>-0.003337</td>\n",
       "      <td>0.015168</td>\n",
       "      <td>-0.002015</td>\n",
       "      <td>-0.005644</td>\n",
       "      <td>-0.006686</td>\n",
       "      <td>0.005820</td>\n",
       "      <td>-0.004564</td>\n",
       "    </tr>\n",
       "    <tr>\n",
       "      <th>...</th>\n",
       "      <td>...</td>\n",
       "      <td>...</td>\n",
       "      <td>...</td>\n",
       "      <td>...</td>\n",
       "      <td>...</td>\n",
       "      <td>...</td>\n",
       "      <td>...</td>\n",
       "      <td>...</td>\n",
       "      <td>...</td>\n",
       "      <td>...</td>\n",
       "      <td>...</td>\n",
       "      <td>...</td>\n",
       "      <td>...</td>\n",
       "      <td>...</td>\n",
       "      <td>...</td>\n",
       "      <td>...</td>\n",
       "      <td>...</td>\n",
       "      <td>...</td>\n",
       "      <td>...</td>\n",
       "      <td>...</td>\n",
       "      <td>...</td>\n",
       "    </tr>\n",
       "    <tr>\n",
       "      <th>799</th>\n",
       "      <td>-0.404637</td>\n",
       "      <td>-0.397955</td>\n",
       "      <td>-0.411516</td>\n",
       "      <td>-0.394195</td>\n",
       "      <td>-0.419575</td>\n",
       "      <td>-0.387313</td>\n",
       "      <td>-0.421468</td>\n",
       "      <td>-0.384070</td>\n",
       "      <td>-0.432432</td>\n",
       "      <td>-0.392525</td>\n",
       "      <td>...</td>\n",
       "      <td>-0.002497</td>\n",
       "      <td>0.003129</td>\n",
       "      <td>0.003224</td>\n",
       "      <td>-0.002707</td>\n",
       "      <td>-0.002975</td>\n",
       "      <td>-0.005674</td>\n",
       "      <td>0.010354</td>\n",
       "      <td>-0.002891</td>\n",
       "      <td>0.005304</td>\n",
       "      <td>-0.008780</td>\n",
       "    </tr>\n",
       "    <tr>\n",
       "      <th>800</th>\n",
       "      <td>-0.745261</td>\n",
       "      <td>-0.694666</td>\n",
       "      <td>-0.683227</td>\n",
       "      <td>-0.735724</td>\n",
       "      <td>-0.740834</td>\n",
       "      <td>-0.712123</td>\n",
       "      <td>-0.674826</td>\n",
       "      <td>-0.728872</td>\n",
       "      <td>-0.717996</td>\n",
       "      <td>-0.604132</td>\n",
       "      <td>...</td>\n",
       "      <td>0.003718</td>\n",
       "      <td>0.006365</td>\n",
       "      <td>0.011338</td>\n",
       "      <td>-0.007908</td>\n",
       "      <td>0.005974</td>\n",
       "      <td>0.000316</td>\n",
       "      <td>-0.003597</td>\n",
       "      <td>0.000937</td>\n",
       "      <td>0.000810</td>\n",
       "      <td>-0.013335</td>\n",
       "    </tr>\n",
       "    <tr>\n",
       "      <th>801</th>\n",
       "      <td>-0.879295</td>\n",
       "      <td>-0.815698</td>\n",
       "      <td>-0.797541</td>\n",
       "      <td>-0.869821</td>\n",
       "      <td>-0.878449</td>\n",
       "      <td>-0.838722</td>\n",
       "      <td>-0.784812</td>\n",
       "      <td>-0.861493</td>\n",
       "      <td>-0.848428</td>\n",
       "      <td>-0.746746</td>\n",
       "      <td>...</td>\n",
       "      <td>-0.006780</td>\n",
       "      <td>-0.002796</td>\n",
       "      <td>-0.000426</td>\n",
       "      <td>-0.002109</td>\n",
       "      <td>-0.005881</td>\n",
       "      <td>0.003723</td>\n",
       "      <td>-0.002701</td>\n",
       "      <td>0.006986</td>\n",
       "      <td>-0.000020</td>\n",
       "      <td>0.001859</td>\n",
       "    </tr>\n",
       "    <tr>\n",
       "      <th>802</th>\n",
       "      <td>-0.674349</td>\n",
       "      <td>-0.654185</td>\n",
       "      <td>-0.660441</td>\n",
       "      <td>-0.664846</td>\n",
       "      <td>-0.681627</td>\n",
       "      <td>-0.652604</td>\n",
       "      <td>-0.664925</td>\n",
       "      <td>-0.657333</td>\n",
       "      <td>-0.670624</td>\n",
       "      <td>-0.584467</td>\n",
       "      <td>...</td>\n",
       "      <td>0.000691</td>\n",
       "      <td>-0.005341</td>\n",
       "      <td>0.002158</td>\n",
       "      <td>-0.002900</td>\n",
       "      <td>-0.003811</td>\n",
       "      <td>-0.000248</td>\n",
       "      <td>0.002478</td>\n",
       "      <td>0.002836</td>\n",
       "      <td>0.000799</td>\n",
       "      <td>0.001096</td>\n",
       "    </tr>\n",
       "    <tr>\n",
       "      <th>803</th>\n",
       "      <td>-0.537410</td>\n",
       "      <td>-0.558205</td>\n",
       "      <td>-0.550683</td>\n",
       "      <td>-0.551211</td>\n",
       "      <td>-0.522817</td>\n",
       "      <td>-0.564660</td>\n",
       "      <td>-0.543282</td>\n",
       "      <td>-0.565010</td>\n",
       "      <td>-0.492272</td>\n",
       "      <td>-0.440501</td>\n",
       "      <td>...</td>\n",
       "      <td>0.006427</td>\n",
       "      <td>0.006918</td>\n",
       "      <td>0.005026</td>\n",
       "      <td>0.000134</td>\n",
       "      <td>0.005262</td>\n",
       "      <td>0.004574</td>\n",
       "      <td>-0.008372</td>\n",
       "      <td>-0.000634</td>\n",
       "      <td>-0.005133</td>\n",
       "      <td>-0.001820</td>\n",
       "    </tr>\n",
       "  </tbody>\n",
       "</table>\n",
       "<p>804 rows × 248 columns</p>\n",
       "</div>"
      ],
      "text/plain": [
       "           x0        x1        x2        x3        x4        x5        x6  \\\n",
       "0   -0.293264 -0.276704 -0.283315 -0.284291 -0.310929 -0.270594 -0.289745   \n",
       "1   -0.482511 -0.540654 -0.546690 -0.499387 -0.468719 -0.531776 -0.547950   \n",
       "2   -0.531936 -0.581215 -0.593229 -0.538971 -0.522756 -0.568237 -0.598154   \n",
       "3   -0.537739 -0.577033 -0.586953 -0.547312 -0.535282 -0.565669 -0.592941   \n",
       "4   -0.488754 -0.547735 -0.555603 -0.501533 -0.473446 -0.536482 -0.558696   \n",
       "..        ...       ...       ...       ...       ...       ...       ...   \n",
       "799 -0.404637 -0.397955 -0.411516 -0.394195 -0.419575 -0.387313 -0.421468   \n",
       "800 -0.745261 -0.694666 -0.683227 -0.735724 -0.740834 -0.712123 -0.674826   \n",
       "801 -0.879295 -0.815698 -0.797541 -0.869821 -0.878449 -0.838722 -0.784812   \n",
       "802 -0.674349 -0.654185 -0.660441 -0.664846 -0.681627 -0.652604 -0.664925   \n",
       "803 -0.537410 -0.558205 -0.550683 -0.551211 -0.522817 -0.564660 -0.543282   \n",
       "\n",
       "           x7        x8        x9  ...      x238      x239      x240  \\\n",
       "0   -0.273186 -0.322904 -0.347862  ...  0.005433  0.002811 -0.008389   \n",
       "1   -0.520972 -0.434744 -0.426375  ...  0.013307  0.007175 -0.009169   \n",
       "2   -0.554277 -0.507212 -0.461098  ...  0.004561 -0.010457 -0.009708   \n",
       "3   -0.558279 -0.516302 -0.537049  ... -0.001868 -0.009904  0.005181   \n",
       "4   -0.517181 -0.486760 -0.499094  ... -0.001551  0.004503 -0.003700   \n",
       "..        ...       ...       ...  ...       ...       ...       ...   \n",
       "799 -0.384070 -0.432432 -0.392525  ... -0.002497  0.003129  0.003224   \n",
       "800 -0.728872 -0.717996 -0.604132  ...  0.003718  0.006365  0.011338   \n",
       "801 -0.861493 -0.848428 -0.746746  ... -0.006780 -0.002796 -0.000426   \n",
       "802 -0.657333 -0.670624 -0.584467  ...  0.000691 -0.005341  0.002158   \n",
       "803 -0.565010 -0.492272 -0.440501  ...  0.006427  0.006918  0.005026   \n",
       "\n",
       "         x241      x242      x243      x244      x245      x246      x247  \n",
       "0   -0.001614  0.008409 -0.001399 -0.001478 -0.006776  0.006517  0.007125  \n",
       "1    0.008632 -0.006781 -0.004126  0.010627 -0.007328  0.006407 -0.001100  \n",
       "2    0.004865 -0.006490  0.002058 -0.000874  0.004761 -0.000547  0.009539  \n",
       "3   -0.004370 -0.000719 -0.004049  0.006154  0.000226 -0.000467  0.003569  \n",
       "4   -0.003337  0.015168 -0.002015 -0.005644 -0.006686  0.005820 -0.004564  \n",
       "..        ...       ...       ...       ...       ...       ...       ...  \n",
       "799 -0.002707 -0.002975 -0.005674  0.010354 -0.002891  0.005304 -0.008780  \n",
       "800 -0.007908  0.005974  0.000316 -0.003597  0.000937  0.000810 -0.013335  \n",
       "801 -0.002109 -0.005881  0.003723 -0.002701  0.006986 -0.000020  0.001859  \n",
       "802 -0.002900 -0.003811 -0.000248  0.002478  0.002836  0.000799  0.001096  \n",
       "803  0.000134  0.005262  0.004574 -0.008372 -0.000634 -0.005133 -0.001820  \n",
       "\n",
       "[804 rows x 248 columns]"
      ]
     },
     "execution_count": 39,
     "metadata": {},
     "output_type": "execute_result"
    }
   ],
   "source": [
    "df"
   ]
  },
  {
   "cell_type": "code",
   "execution_count": 40,
   "id": "1662381e",
   "metadata": {},
   "outputs": [
    {
     "data": {
      "text/plain": [
       "x0      0\n",
       "x1      0\n",
       "x2      0\n",
       "x3      0\n",
       "x4      0\n",
       "       ..\n",
       "x243    0\n",
       "x244    0\n",
       "x245    0\n",
       "x246    0\n",
       "x247    0\n",
       "Length: 248, dtype: int64"
      ]
     },
     "execution_count": 40,
     "metadata": {},
     "output_type": "execute_result"
    }
   ],
   "source": [
    "df.isnull().sum()"
   ]
  },
  {
   "cell_type": "markdown",
   "id": "a86e437d",
   "metadata": {},
   "source": [
    "# PCA"
   ]
  },
  {
   "cell_type": "code",
   "execution_count": 41,
   "id": "b0f154f1",
   "metadata": {},
   "outputs": [
    {
     "name": "stdout",
     "output_type": "stream",
     "text": [
      "(804, 248)\n",
      "[[ 0.75877659  0.79285327  0.77808401 ... -0.9661798   0.87000419\n",
      "   0.96509504]\n",
      " [ 0.43866571  0.35290009  0.34127946 ... -1.04247949  0.85592106\n",
      "  -0.19293939]\n",
      " [ 0.35506203  0.28529351  0.2640946  ...  0.62892357 -0.03674105\n",
      "   1.30496692]\n",
      " ...\n",
      " [-0.2324959  -0.10554274 -0.07475519 ...  0.93649131  0.03087537\n",
      "   0.22366924]\n",
      " [ 0.11417035  0.16366628  0.15262455 ...  0.36281947  0.13604137\n",
      "   0.11624142]\n",
      " [ 0.34580394  0.32364727  0.33465704 ... -0.11698405 -0.6255191\n",
      "  -0.29419998]]\n"
     ]
    }
   ],
   "source": [
    "std_slc = StandardScaler()\n",
    "X_std = std_slc.fit_transform(df)\n",
    "print(X_std.shape)\n",
    "print(X_std)"
   ]
  },
  {
   "cell_type": "code",
   "execution_count": 42,
   "id": "02137ca2",
   "metadata": {},
   "outputs": [
    {
     "data": {
      "image/png": "[encoded data removed]",
      "text/plain": [
       "<Figure size 432x288 with 1 Axes>"
      ]
     },
     "metadata": {
      "needs_background": "light"
     },
     "output_type": "display_data"
    }
   ],
   "source": [
    "pca = PCA().fit(X_std)\n",
    "plt.plot(np.cumsum(pca.explained_variance_ratio_))\n",
    "plt.xlabel('number of components')\n",
    "plt.ylabel('cumulative explained variance')\n",
    "plt.axhline(y=0.95, color='b', linestyle='-')\n",
    "plt.text(0.5, 0.85, '95% cut-off threshold', color = 'blue', fontsize=16)\n",
    "plt.grid(axis = 'y')\n",
    "plt.show()"
   ]
  },
  {
   "cell_type": "code",
   "execution_count": 43,
   "id": "70239c9a",
   "metadata": {
    "scrolled": false
   },
   "outputs": [
    {
     "name": "stdout",
     "output_type": "stream",
     "text": [
      "(804, 110)\n",
      "[[-2.16172401 -0.10748036  1.37079774 ... -0.12449077  0.09422499\n",
      "   0.21978242]\n",
      " [-0.76485673 -4.15737013  1.76463687 ... -1.03100288  0.55648684\n",
      "  -1.30126898]\n",
      " [-0.71224627 -2.67934711 -1.5631943  ...  1.16775394  0.13986529\n",
      "   0.34866847]\n",
      " ...\n",
      " [ 0.99810799  0.81134533  1.38358842 ... -0.64270461  0.60315615\n",
      "   0.10200311]\n",
      " [-0.88728906  1.15300719  0.93718075 ...  0.16905025  0.62195125\n",
      "   0.43783156]\n",
      " [-1.03926421  0.31183603  0.816626   ...  0.12271378  0.18926821\n",
      "   0.15018164]]\n"
     ]
    }
   ],
   "source": [
    "pca = PCA(n_components=110)\n",
    "\n",
    "X_std_pca = pca.fit_transform(X_std)\n",
    "print(X_std_pca.shape)\n",
    "print(X_std_pca)"
   ]
  },
  {
   "cell_type": "code",
   "execution_count": 44,
   "id": "781a1f57",
   "metadata": {},
   "outputs": [
    {
     "data": {
      "text/plain": [
       "110"
      ]
     },
     "execution_count": 44,
     "metadata": {},
     "output_type": "execute_result"
    }
   ],
   "source": [
    "len(X_std_pca[0])"
   ]
  },
  {
   "cell_type": "code",
   "execution_count": 45,
   "id": "b2a47098",
   "metadata": {},
   "outputs": [],
   "source": [
    "colonnes=[]\n",
    "for i in range(110):\n",
    "    colonnes.append('x'+str(i))"
   ]
  },
  {
   "cell_type": "code",
   "execution_count": 46,
   "id": "fb246528",
   "metadata": {},
   "outputs": [
    {
     "data": {
      "text/plain": [
       "['x0',\n",
       " 'x1',\n",
       " 'x2',\n",
       " 'x3',\n",
       " 'x4',\n",
       " 'x5',\n",
       " 'x6',\n",
       " 'x7',\n",
       " 'x8',\n",
       " 'x9',\n",
       " 'x10',\n",
       " 'x11',\n",
       " 'x12',\n",
       " 'x13',\n",
       " 'x14',\n",
       " 'x15',\n",
       " 'x16',\n",
       " 'x17',\n",
       " 'x18',\n",
       " 'x19',\n",
       " 'x20',\n",
       " 'x21',\n",
       " 'x22',\n",
       " 'x23',\n",
       " 'x24',\n",
       " 'x25',\n",
       " 'x26',\n",
       " 'x27',\n",
       " 'x28',\n",
       " 'x29',\n",
       " 'x30',\n",
       " 'x31',\n",
       " 'x32',\n",
       " 'x33',\n",
       " 'x34',\n",
       " 'x35',\n",
       " 'x36',\n",
       " 'x37',\n",
       " 'x38',\n",
       " 'x39',\n",
       " 'x40',\n",
       " 'x41',\n",
       " 'x42',\n",
       " 'x43',\n",
       " 'x44',\n",
       " 'x45',\n",
       " 'x46',\n",
       " 'x47',\n",
       " 'x48',\n",
       " 'x49',\n",
       " 'x50',\n",
       " 'x51',\n",
       " 'x52',\n",
       " 'x53',\n",
       " 'x54',\n",
       " 'x55',\n",
       " 'x56',\n",
       " 'x57',\n",
       " 'x58',\n",
       " 'x59',\n",
       " 'x60',\n",
       " 'x61',\n",
       " 'x62',\n",
       " 'x63',\n",
       " 'x64',\n",
       " 'x65',\n",
       " 'x66',\n",
       " 'x67',\n",
       " 'x68',\n",
       " 'x69',\n",
       " 'x70',\n",
       " 'x71',\n",
       " 'x72',\n",
       " 'x73',\n",
       " 'x74',\n",
       " 'x75',\n",
       " 'x76',\n",
       " 'x77',\n",
       " 'x78',\n",
       " 'x79',\n",
       " 'x80',\n",
       " 'x81',\n",
       " 'x82',\n",
       " 'x83',\n",
       " 'x84',\n",
       " 'x85',\n",
       " 'x86',\n",
       " 'x87',\n",
       " 'x88',\n",
       " 'x89',\n",
       " 'x90',\n",
       " 'x91',\n",
       " 'x92',\n",
       " 'x93',\n",
       " 'x94',\n",
       " 'x95',\n",
       " 'x96',\n",
       " 'x97',\n",
       " 'x98',\n",
       " 'x99',\n",
       " 'x100',\n",
       " 'x101',\n",
       " 'x102',\n",
       " 'x103',\n",
       " 'x104',\n",
       " 'x105',\n",
       " 'x106',\n",
       " 'x107',\n",
       " 'x108',\n",
       " 'x109']"
      ]
     },
     "execution_count": 46,
     "metadata": {},
     "output_type": "execute_result"
    }
   ],
   "source": [
    "colonnes"
   ]
  },
  {
   "cell_type": "code",
   "execution_count": 47,
   "id": "1cadb7d9",
   "metadata": {},
   "outputs": [],
   "source": [
    "df=pd.DataFrame(X_std_pca,columns=colonnes)"
   ]
  },
  {
   "cell_type": "code",
   "execution_count": 48,
   "id": "0f736f5a",
   "metadata": {},
   "outputs": [
    {
     "data": {
      "text/html": [
       "<div>\n",
       "<style scoped>\n",
       "    .dataframe tbody tr th:only-of-type {\n",
       "        vertical-align: middle;\n",
       "    }\n",
       "\n",
       "    .dataframe tbody tr th {\n",
       "        vertical-align: top;\n",
       "    }\n",
       "\n",
       "    .dataframe thead th {\n",
       "        text-align: right;\n",
       "    }\n",
       "</style>\n",
       "<table border=\"1\" class=\"dataframe\">\n",
       "  <thead>\n",
       "    <tr style=\"text-align: right;\">\n",
       "      <th></th>\n",
       "      <th>x0</th>\n",
       "      <th>x1</th>\n",
       "      <th>x2</th>\n",
       "      <th>x3</th>\n",
       "      <th>x4</th>\n",
       "      <th>x5</th>\n",
       "      <th>x6</th>\n",
       "      <th>x7</th>\n",
       "      <th>x8</th>\n",
       "      <th>x9</th>\n",
       "      <th>...</th>\n",
       "      <th>x100</th>\n",
       "      <th>x101</th>\n",
       "      <th>x102</th>\n",
       "      <th>x103</th>\n",
       "      <th>x104</th>\n",
       "      <th>x105</th>\n",
       "      <th>x106</th>\n",
       "      <th>x107</th>\n",
       "      <th>x108</th>\n",
       "      <th>x109</th>\n",
       "    </tr>\n",
       "  </thead>\n",
       "  <tbody>\n",
       "    <tr>\n",
       "      <th>0</th>\n",
       "      <td>-2.161724</td>\n",
       "      <td>-0.107480</td>\n",
       "      <td>1.370798</td>\n",
       "      <td>-1.762400</td>\n",
       "      <td>-0.646815</td>\n",
       "      <td>-1.316957</td>\n",
       "      <td>-0.227171</td>\n",
       "      <td>-0.297539</td>\n",
       "      <td>-0.786510</td>\n",
       "      <td>-0.286152</td>\n",
       "      <td>...</td>\n",
       "      <td>-0.646675</td>\n",
       "      <td>-0.090088</td>\n",
       "      <td>-0.349313</td>\n",
       "      <td>-1.303196</td>\n",
       "      <td>-0.669578</td>\n",
       "      <td>0.808580</td>\n",
       "      <td>0.371387</td>\n",
       "      <td>-0.124491</td>\n",
       "      <td>0.094225</td>\n",
       "      <td>0.219782</td>\n",
       "    </tr>\n",
       "    <tr>\n",
       "      <th>1</th>\n",
       "      <td>-0.764857</td>\n",
       "      <td>-4.157370</td>\n",
       "      <td>1.764637</td>\n",
       "      <td>-2.353302</td>\n",
       "      <td>0.862083</td>\n",
       "      <td>-1.063727</td>\n",
       "      <td>1.001096</td>\n",
       "      <td>1.109511</td>\n",
       "      <td>0.627867</td>\n",
       "      <td>0.602988</td>\n",
       "      <td>...</td>\n",
       "      <td>-0.254221</td>\n",
       "      <td>-0.401872</td>\n",
       "      <td>2.152312</td>\n",
       "      <td>0.115159</td>\n",
       "      <td>-0.093982</td>\n",
       "      <td>-0.213930</td>\n",
       "      <td>-0.193364</td>\n",
       "      <td>-1.031003</td>\n",
       "      <td>0.556487</td>\n",
       "      <td>-1.301269</td>\n",
       "    </tr>\n",
       "    <tr>\n",
       "      <th>2</th>\n",
       "      <td>-0.712246</td>\n",
       "      <td>-2.679347</td>\n",
       "      <td>-1.563194</td>\n",
       "      <td>-1.273481</td>\n",
       "      <td>-0.061863</td>\n",
       "      <td>-0.433151</td>\n",
       "      <td>0.881236</td>\n",
       "      <td>-0.145770</td>\n",
       "      <td>-0.996630</td>\n",
       "      <td>1.222216</td>\n",
       "      <td>...</td>\n",
       "      <td>-1.063721</td>\n",
       "      <td>0.592773</td>\n",
       "      <td>0.137671</td>\n",
       "      <td>-0.181145</td>\n",
       "      <td>-0.345802</td>\n",
       "      <td>0.352461</td>\n",
       "      <td>-0.467412</td>\n",
       "      <td>1.167754</td>\n",
       "      <td>0.139865</td>\n",
       "      <td>0.348668</td>\n",
       "    </tr>\n",
       "    <tr>\n",
       "      <th>3</th>\n",
       "      <td>-0.670347</td>\n",
       "      <td>0.260886</td>\n",
       "      <td>2.099832</td>\n",
       "      <td>-1.866303</td>\n",
       "      <td>-0.868431</td>\n",
       "      <td>-0.890911</td>\n",
       "      <td>-0.601528</td>\n",
       "      <td>-1.249887</td>\n",
       "      <td>-0.767871</td>\n",
       "      <td>-0.179452</td>\n",
       "      <td>...</td>\n",
       "      <td>0.729400</td>\n",
       "      <td>-0.198461</td>\n",
       "      <td>0.665028</td>\n",
       "      <td>0.305289</td>\n",
       "      <td>0.128020</td>\n",
       "      <td>0.173939</td>\n",
       "      <td>1.057273</td>\n",
       "      <td>1.333075</td>\n",
       "      <td>0.985250</td>\n",
       "      <td>0.347354</td>\n",
       "    </tr>\n",
       "    <tr>\n",
       "      <th>4</th>\n",
       "      <td>-0.674797</td>\n",
       "      <td>0.568048</td>\n",
       "      <td>-3.560768</td>\n",
       "      <td>-0.293220</td>\n",
       "      <td>-1.631943</td>\n",
       "      <td>-0.589292</td>\n",
       "      <td>0.781039</td>\n",
       "      <td>1.465683</td>\n",
       "      <td>0.059795</td>\n",
       "      <td>0.658920</td>\n",
       "      <td>...</td>\n",
       "      <td>0.095140</td>\n",
       "      <td>-0.274677</td>\n",
       "      <td>-0.223786</td>\n",
       "      <td>-0.128119</td>\n",
       "      <td>0.596735</td>\n",
       "      <td>-1.864593</td>\n",
       "      <td>1.547733</td>\n",
       "      <td>0.096124</td>\n",
       "      <td>-1.656998</td>\n",
       "      <td>-0.151550</td>\n",
       "    </tr>\n",
       "    <tr>\n",
       "      <th>...</th>\n",
       "      <td>...</td>\n",
       "      <td>...</td>\n",
       "      <td>...</td>\n",
       "      <td>...</td>\n",
       "      <td>...</td>\n",
       "      <td>...</td>\n",
       "      <td>...</td>\n",
       "      <td>...</td>\n",
       "      <td>...</td>\n",
       "      <td>...</td>\n",
       "      <td>...</td>\n",
       "      <td>...</td>\n",
       "      <td>...</td>\n",
       "      <td>...</td>\n",
       "      <td>...</td>\n",
       "      <td>...</td>\n",
       "      <td>...</td>\n",
       "      <td>...</td>\n",
       "      <td>...</td>\n",
       "      <td>...</td>\n",
       "      <td>...</td>\n",
       "    </tr>\n",
       "    <tr>\n",
       "      <th>799</th>\n",
       "      <td>-1.508548</td>\n",
       "      <td>0.635159</td>\n",
       "      <td>0.844917</td>\n",
       "      <td>-1.717388</td>\n",
       "      <td>0.202785</td>\n",
       "      <td>-1.969682</td>\n",
       "      <td>0.356227</td>\n",
       "      <td>0.565962</td>\n",
       "      <td>-0.287053</td>\n",
       "      <td>-1.547482</td>\n",
       "      <td>...</td>\n",
       "      <td>0.774960</td>\n",
       "      <td>0.346217</td>\n",
       "      <td>-0.400316</td>\n",
       "      <td>0.920672</td>\n",
       "      <td>-1.088229</td>\n",
       "      <td>-0.607324</td>\n",
       "      <td>0.531279</td>\n",
       "      <td>-0.579331</td>\n",
       "      <td>0.163659</td>\n",
       "      <td>-0.785945</td>\n",
       "    </tr>\n",
       "    <tr>\n",
       "      <th>800</th>\n",
       "      <td>0.895409</td>\n",
       "      <td>1.376500</td>\n",
       "      <td>0.162587</td>\n",
       "      <td>-0.720494</td>\n",
       "      <td>0.905974</td>\n",
       "      <td>-0.732954</td>\n",
       "      <td>0.461475</td>\n",
       "      <td>0.178754</td>\n",
       "      <td>-0.586210</td>\n",
       "      <td>-1.143283</td>\n",
       "      <td>...</td>\n",
       "      <td>0.247034</td>\n",
       "      <td>0.597703</td>\n",
       "      <td>-0.192512</td>\n",
       "      <td>0.449020</td>\n",
       "      <td>-0.069809</td>\n",
       "      <td>-0.634927</td>\n",
       "      <td>0.620993</td>\n",
       "      <td>-0.421943</td>\n",
       "      <td>1.011147</td>\n",
       "      <td>-0.279052</td>\n",
       "    </tr>\n",
       "    <tr>\n",
       "      <th>801</th>\n",
       "      <td>0.998108</td>\n",
       "      <td>0.811345</td>\n",
       "      <td>1.383588</td>\n",
       "      <td>-0.821147</td>\n",
       "      <td>1.125128</td>\n",
       "      <td>0.469358</td>\n",
       "      <td>-0.971029</td>\n",
       "      <td>-0.764898</td>\n",
       "      <td>0.241356</td>\n",
       "      <td>-0.945329</td>\n",
       "      <td>...</td>\n",
       "      <td>0.496927</td>\n",
       "      <td>0.199473</td>\n",
       "      <td>-0.027371</td>\n",
       "      <td>-0.840952</td>\n",
       "      <td>-0.478505</td>\n",
       "      <td>0.095514</td>\n",
       "      <td>-0.134096</td>\n",
       "      <td>-0.642705</td>\n",
       "      <td>0.603156</td>\n",
       "      <td>0.102003</td>\n",
       "    </tr>\n",
       "    <tr>\n",
       "      <th>802</th>\n",
       "      <td>-0.887289</td>\n",
       "      <td>1.153007</td>\n",
       "      <td>0.937181</td>\n",
       "      <td>-0.690832</td>\n",
       "      <td>1.256104</td>\n",
       "      <td>-0.442011</td>\n",
       "      <td>0.783550</td>\n",
       "      <td>0.358864</td>\n",
       "      <td>0.465993</td>\n",
       "      <td>-1.104763</td>\n",
       "      <td>...</td>\n",
       "      <td>-0.266150</td>\n",
       "      <td>-0.044343</td>\n",
       "      <td>-0.119479</td>\n",
       "      <td>-1.188557</td>\n",
       "      <td>0.106692</td>\n",
       "      <td>-0.287970</td>\n",
       "      <td>0.328029</td>\n",
       "      <td>0.169050</td>\n",
       "      <td>0.621951</td>\n",
       "      <td>0.437832</td>\n",
       "    </tr>\n",
       "    <tr>\n",
       "      <th>803</th>\n",
       "      <td>-1.039264</td>\n",
       "      <td>0.311836</td>\n",
       "      <td>0.816626</td>\n",
       "      <td>-0.560539</td>\n",
       "      <td>1.140426</td>\n",
       "      <td>-1.071413</td>\n",
       "      <td>1.027669</td>\n",
       "      <td>1.128492</td>\n",
       "      <td>-1.259924</td>\n",
       "      <td>0.061638</td>\n",
       "      <td>...</td>\n",
       "      <td>0.350200</td>\n",
       "      <td>0.269369</td>\n",
       "      <td>1.138338</td>\n",
       "      <td>0.563159</td>\n",
       "      <td>-0.320760</td>\n",
       "      <td>0.666029</td>\n",
       "      <td>-0.023221</td>\n",
       "      <td>0.122714</td>\n",
       "      <td>0.189268</td>\n",
       "      <td>0.150182</td>\n",
       "    </tr>\n",
       "  </tbody>\n",
       "</table>\n",
       "<p>804 rows × 110 columns</p>\n",
       "</div>"
      ],
      "text/plain": [
       "           x0        x1        x2        x3        x4        x5        x6  \\\n",
       "0   -2.161724 -0.107480  1.370798 -1.762400 -0.646815 -1.316957 -0.227171   \n",
       "1   -0.764857 -4.157370  1.764637 -2.353302  0.862083 -1.063727  1.001096   \n",
       "2   -0.712246 -2.679347 -1.563194 -1.273481 -0.061863 -0.433151  0.881236   \n",
       "3   -0.670347  0.260886  2.099832 -1.866303 -0.868431 -0.890911 -0.601528   \n",
       "4   -0.674797  0.568048 -3.560768 -0.293220 -1.631943 -0.589292  0.781039   \n",
       "..        ...       ...       ...       ...       ...       ...       ...   \n",
       "799 -1.508548  0.635159  0.844917 -1.717388  0.202785 -1.969682  0.356227   \n",
       "800  0.895409  1.376500  0.162587 -0.720494  0.905974 -0.732954  0.461475   \n",
       "801  0.998108  0.811345  1.383588 -0.821147  1.125128  0.469358 -0.971029   \n",
       "802 -0.887289  1.153007  0.937181 -0.690832  1.256104 -0.442011  0.783550   \n",
       "803 -1.039264  0.311836  0.816626 -0.560539  1.140426 -1.071413  1.027669   \n",
       "\n",
       "           x7        x8        x9  ...      x100      x101      x102  \\\n",
       "0   -0.297539 -0.786510 -0.286152  ... -0.646675 -0.090088 -0.349313   \n",
       "1    1.109511  0.627867  0.602988  ... -0.254221 -0.401872  2.152312   \n",
       "2   -0.145770 -0.996630  1.222216  ... -1.063721  0.592773  0.137671   \n",
       "3   -1.249887 -0.767871 -0.179452  ...  0.729400 -0.198461  0.665028   \n",
       "4    1.465683  0.059795  0.658920  ...  0.095140 -0.274677 -0.223786   \n",
       "..        ...       ...       ...  ...       ...       ...       ...   \n",
       "799  0.565962 -0.287053 -1.547482  ...  0.774960  0.346217 -0.400316   \n",
       "800  0.178754 -0.586210 -1.143283  ...  0.247034  0.597703 -0.192512   \n",
       "801 -0.764898  0.241356 -0.945329  ...  0.496927  0.199473 -0.027371   \n",
       "802  0.358864  0.465993 -1.104763  ... -0.266150 -0.044343 -0.119479   \n",
       "803  1.128492 -1.259924  0.061638  ...  0.350200  0.269369  1.138338   \n",
       "\n",
       "         x103      x104      x105      x106      x107      x108      x109  \n",
       "0   -1.303196 -0.669578  0.808580  0.371387 -0.124491  0.094225  0.219782  \n",
       "1    0.115159 -0.093982 -0.213930 -0.193364 -1.031003  0.556487 -1.301269  \n",
       "2   -0.181145 -0.345802  0.352461 -0.467412  1.167754  0.139865  0.348668  \n",
       "3    0.305289  0.128020  0.173939  1.057273  1.333075  0.985250  0.347354  \n",
       "4   -0.128119  0.596735 -1.864593  1.547733  0.096124 -1.656998 -0.151550  \n",
       "..        ...       ...       ...       ...       ...       ...       ...  \n",
       "799  0.920672 -1.088229 -0.607324  0.531279 -0.579331  0.163659 -0.785945  \n",
       "800  0.449020 -0.069809 -0.634927  0.620993 -0.421943  1.011147 -0.279052  \n",
       "801 -0.840952 -0.478505  0.095514 -0.134096 -0.642705  0.603156  0.102003  \n",
       "802 -1.188557  0.106692 -0.287970  0.328029  0.169050  0.621951  0.437832  \n",
       "803  0.563159 -0.320760  0.666029 -0.023221  0.122714  0.189268  0.150182  \n",
       "\n",
       "[804 rows x 110 columns]"
      ]
     },
     "execution_count": 48,
     "metadata": {},
     "output_type": "execute_result"
    }
   ],
   "source": [
    "df"
   ]
  },
  {
   "cell_type": "markdown",
   "id": "78006b37",
   "metadata": {},
   "source": [
    "# Change annotation"
   ]
  },
  {
   "cell_type": "code",
   "execution_count": 49,
   "id": "95048a33",
   "metadata": {},
   "outputs": [],
   "source": [
    "ann = wf.rdann('C://Users//Nada Najari//Downloads//mit-bih-arrhythmia-database-1.0.0//mit-bih-arrhythmia-database-1.0.0//210', 'atr', sampto=5000, return_label_elements=['symbol'],  summarize_labels=False)\n",
    "L=[]\n",
    "for j in ann.symbol:\n",
    "    if j not in NonBeat:\n",
    "        L.append(j)\n",
    " "
   ]
  },
  {
   "cell_type": "code",
   "execution_count": 50,
   "id": "40c416e9",
   "metadata": {},
   "outputs": [
    {
     "data": {
      "text/plain": [
       "23"
      ]
     },
     "execution_count": 50,
     "metadata": {},
     "output_type": "execute_result"
    }
   ],
   "source": [
    "len(ann.symbol)"
   ]
  },
  {
   "cell_type": "code",
   "execution_count": 51,
   "id": "263c035c",
   "metadata": {},
   "outputs": [
    {
     "data": {
      "text/plain": [
       "22"
      ]
     },
     "execution_count": 51,
     "metadata": {},
     "output_type": "execute_result"
    }
   ],
   "source": [
    "len(L)"
   ]
  },
  {
   "cell_type": "code",
   "execution_count": 52,
   "id": "b033f86e",
   "metadata": {},
   "outputs": [],
   "source": [
    "k=[]\n",
    "for i in range(len(patients)):\n",
    "    ann = wf.rdann('C://Users//Nada Najari//Downloads//mit-bih-arrhythmia-database-1.0.0//mit-bih-arrhythmia-database-1.0.0//'+patients[i], 'atr', sampto=5000, return_label_elements=['symbol'],  summarize_labels=False)\n",
    "    L=[]\n",
    "    for j in ann.symbol:\n",
    "        if j not in NonBeat:\n",
    "            L.append(j)\n",
    "    if patients[i]=='104':\n",
    "        L.pop()\n",
    "    elif patients[i]=='107':\n",
    "        L.pop(6)\n",
    "    elif patients[i]=='203':\n",
    "        L.pop(20)\n",
    "    elif patients[i]=='208':\n",
    "        L.pop()\n",
    "        L.pop(6)\n",
    "    elif patients[i]=='210':\n",
    "        L.pop(17)\n",
    "    elif patients[i]=='221':\n",
    "        L.pop(5)\n",
    "    k.extend(L)\n",
    "        "
   ]
  },
  {
   "cell_type": "code",
   "execution_count": 53,
   "id": "72b56f3d",
   "metadata": {},
   "outputs": [],
   "source": [
    "patientsd = ['101','102','103','105','106',\n",
    "           '108','109','112','118','119','122','200',\n",
    "           '201','203','207',\n",
    "           '212','213','215','219',\n",
    "           '222','233','234']\n",
    "patientsk = ['104','107','116',\n",
    "           '118','123','207','208','210','214','220','233']"
   ]
  },
  {
   "cell_type": "code",
   "execution_count": 54,
   "id": "08b8af29",
   "metadata": {},
   "outputs": [],
   "source": [
    "for i in range(len(patientsd)):\n",
    "    k.pop()\n",
    "for i in range(len(patientsk)):\n",
    "    k.pop(0)"
   ]
  },
  {
   "cell_type": "code",
   "execution_count": 55,
   "id": "a340d3bd",
   "metadata": {},
   "outputs": [],
   "source": [
    "df1 = pd.DataFrame(k,columns=['Class'])"
   ]
  },
  {
   "cell_type": "code",
   "execution_count": 56,
   "id": "c378a76f",
   "metadata": {},
   "outputs": [
    {
     "data": {
      "text/plain": [
       "<AxesSubplot:xlabel='Class', ylabel='count'>"
      ]
     },
     "execution_count": 56,
     "metadata": {},
     "output_type": "execute_result"
    },
    {
     "data": {
      "image/png": "[encoded data removed]",
      "text/plain": [
       "<Figure size 432x288 with 1 Axes>"
      ]
     },
     "metadata": {
      "needs_background": "light"
     },
     "output_type": "display_data"
    }
   ],
   "source": [
    "sns.countplot(x='Class',data=df1)"
   ]
  },
  {
   "cell_type": "markdown",
   "id": "75faff74",
   "metadata": {},
   "source": [
    "## Data Split"
   ]
  },
  {
   "cell_type": "code",
   "execution_count": 57,
   "id": "34bb727a",
   "metadata": {},
   "outputs": [],
   "source": [
    "X_train, X_test, y_train, y_test = train_test_split(df, df1['Class'], test_size = 0.3, random_state=1)"
   ]
  },
  {
   "cell_type": "markdown",
   "id": "eeb873a5",
   "metadata": {},
   "source": [
    "## Modeling: KNN"
   ]
  },
  {
   "cell_type": "code",
   "execution_count": 58,
   "id": "c05bdf5e",
   "metadata": {},
   "outputs": [
    {
     "name": "stdout",
     "output_type": "stream",
     "text": [
      "Accuracy d'entrainement 0.7224199288256228\n",
      "K-fold CV average score: 0.69\n"
     ]
    }
   ],
   "source": [
    "model = KNeighborsClassifier(n_neighbors=8, weights='uniform')\n",
    "model\n",
    "import sklearn\n",
    "# Model training\n",
    "model.fit(X_train,y_train)\n",
    "# Model predictions on the trained data\n",
    "y_train_pred = model.predict(X_train)\n",
    "print('Accuracy d\\'entrainement' ,sklearn.metrics.accuracy_score(y_train,y_train_pred))\n",
    "from sklearn.model_selection import cross_val_score\n",
    "from sklearn import model_selection\n",
    "kfold = model_selection.KFold(n_splits=10, shuffle=True)\n",
    "kf_cv_scores = cross_val_score(model, X_train, y_train, cv=kfold )\n",
    "print(\"K-fold CV average score: %.2f\" % kf_cv_scores.mean())"
   ]
  },
  {
   "cell_type": "code",
   "execution_count": 59,
   "id": "3cd6d14f",
   "metadata": {},
   "outputs": [
    {
     "name": "stdout",
     "output_type": "stream",
     "text": [
      "0.6776859504132231\n"
     ]
    }
   ],
   "source": [
    "y_test_pred =model.predict(X_test)\n",
    "print(sklearn.metrics.accuracy_score(y_test,y_test_pred))"
   ]
  },
  {
   "cell_type": "markdown",
   "id": "7f326eef",
   "metadata": {},
   "source": [
    "## Test Accuracy"
   ]
  },
  {
   "cell_type": "code",
   "execution_count": 62,
   "id": "6d7d477f",
   "metadata": {},
   "outputs": [
    {
     "name": "stdout",
     "output_type": "stream",
     "text": [
      "0.6859504132231405\n"
     ]
    }
   ],
   "source": [
    "y_test_pred =model.predict(X_test)\n",
    "print(sklearn.metrics.accuracy_score(y_test,y_test_pred))\n",
    "\n",
    "#model.score(X_test, y_test)"
   ]
  },
  {
   "cell_type": "markdown",
   "id": "ad60213b",
   "metadata": {},
   "source": [
    "## Binary Classification"
   ]
  },
  {
   "cell_type": "code",
   "execution_count": 63,
   "id": "212ca50c",
   "metadata": {},
   "outputs": [],
   "source": [
    "M=[]\n",
    "for i in range(len (k)):\n",
    "    if k[i] not in Normal:\n",
    "        M.append('A')\n",
    "    else:\n",
    "        M.append(k[i])"
   ]
  },
  {
   "cell_type": "code",
   "execution_count": 64,
   "id": "ece4c370",
   "metadata": {},
   "outputs": [],
   "source": [
    "len(M)\n",
    "df2 = pd.DataFrame(M,columns=['Class'])"
   ]
  },
  {
   "cell_type": "code",
   "execution_count": 65,
   "id": "8220c795",
   "metadata": {},
   "outputs": [
    {
     "data": {
      "text/plain": [
       "<AxesSubplot:xlabel='Class', ylabel='count'>"
      ]
     },
     "execution_count": 65,
     "metadata": {},
     "output_type": "execute_result"
    },
    {
     "data": {
      "image/png": "[encoded data removed]",
      "text/plain": [
       "<Figure size 432x288 with 1 Axes>"
      ]
     },
     "metadata": {
      "needs_background": "light"
     },
     "output_type": "display_data"
    }
   ],
   "source": [
    "sns.countplot(x='Class',data=df2)"
   ]
  },
  {
   "cell_type": "code",
   "execution_count": 66,
   "id": "e6f06f63",
   "metadata": {},
   "outputs": [],
   "source": [
    "X_train, X_test, y_train, y_test = train_test_split(df, df2['Class'], test_size = 0.3, random_state=1)"
   ]
  },
  {
   "cell_type": "code",
   "execution_count": 67,
   "id": "e293d904",
   "metadata": {},
   "outputs": [
    {
     "name": "stdout",
     "output_type": "stream",
     "text": [
      "Accuracy d'entrainement 0.9145907473309609\n",
      "K-fold CV average score: 0.68\n"
     ]
    }
   ],
   "source": [
    "model = KNeighborsClassifier(leaf_size= 15, n_neighbors=2, weights='uniform')\n",
    "\n",
    "model\n",
    "\n",
    "# Model training\n",
    "model.fit(X_train,y_train)\n",
    "#print(model.score(X_train,y_train))\n",
    "#model.score(X_test,y_test)\n",
    "# Model predictions on the trained data\n",
    "y_train_pred = model.predict(X_train)\n",
    "print('Accuracy d\\'entrainement',sklearn.metrics.accuracy_score(y_train,y_train_pred))\n",
    "#print(model)\n",
    "from sklearn.model_selection import cross_val_score\n",
    "from sklearn import model_selection\n",
    "kfold = model_selection.KFold(n_splits=10, shuffle=True)\n",
    "kf_cv_scores = cross_val_score(model, X_train, y_train, cv=kfold )\n",
    "print(\"K-fold CV average score: %.2f\" % kf_cv_scores.mean())"
   ]
  },
  {
   "cell_type": "markdown",
   "id": "7419848a",
   "metadata": {},
   "source": [
    "## Test Accuracy"
   ]
  },
  {
   "cell_type": "code",
   "execution_count": 68,
   "id": "258c921a",
   "metadata": {},
   "outputs": [
    {
     "name": "stdout",
     "output_type": "stream",
     "text": [
      "0.7148760330578512\n"
     ]
    }
   ],
   "source": [
    "y_test_pred =model.predict(X_test)\n",
    "print(sklearn.metrics.accuracy_score(y_test,y_test_pred))\n"
   ]
  },
  {
   "cell_type": "code",
   "execution_count": null,
   "id": "331f5c0b",
   "metadata": {},
   "outputs": [],
   "source": []
  }
 ],
 "metadata": {
  "kernelspec": {
   "display_name": "Python 3 (ipykernel)",
   "language": "python",
   "name": "python3"
  },
  "language_info": {
   "codemirror_mode": {
    "name": "ipython",
    "version": 3
   },
   "file_extension": ".py",
   "mimetype": "text/x-python",
   "name": "python",
   "nbconvert_exporter": "python",
   "pygments_lexer": "ipython3",
   "version": "3.9.12"
  }
 },
 "nbformat": 4,
 "nbformat_minor": 5
}
